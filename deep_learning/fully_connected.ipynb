{
 "cells": [
  {
   "cell_type": "markdown",
   "metadata": {},
   "source": [
    "##Goals\n",
    "- Create a feedforward neural network for classifying CIFAR10 dataset\n",
    "- Various activation functions and their pros/cons\n",
    "- Use tensor board for visualiazing"
   ]
  },
  {
   "cell_type": "code",
   "execution_count": 5,
   "metadata": {},
   "outputs": [],
   "source": [
    "# Download CIFAR10 dataset from https://www.cs.toronto.edu/~kriz/cifar.html which is approx 170MB\n",
    "\n",
    "DATASET_DIR = \"/Users/saip/My\\ Drive/machine-learning-fundamentals/datasets\"\n",
    "\n",
    "import urllib.request\n",
    "import os\n",
    "import tarfile\n",
    "\n",
    "DATASET_DIR = \"/Users/saip/My Drive/machine-learning-fundamentals/datasets\"\n",
    "\n",
    "# download the tar file only if CIFAR10 directory does not exist\n",
    "if not os.path.exists(f\"{DATASET_DIR}/CIFAR10\"):\n",
    "    os.makedirs(f\"{DATASET_DIR}/CIFAR10\")\n",
    "\n",
    "    url = \"https://www.cs.toronto.edu/~kriz/cifar-10-python.tar.gz\"\n",
    "    filename = f\"{DATASET_DIR}/cifar-10-python.tar.gz\"\n",
    "\n",
    "    urllib.request.urlretrieve(url, filename)\n",
    "\n",
    "    # extract the tar file\n",
    "    tar = tarfile.open(filename)\n",
    "    tar.extractall(DATASET_DIR+\"/CIFAR10\")\n",
    "    tar.close()\n",
    "\n",
    "# CIFAR10 dataset contains 5 batches of training data and 1 batch of test data\n",
    "# each batch is a python dictionary with the following keys\n",
    "# data - numpy array of 10000 x 3072 (each row is a 32x32 image with 3 color channels)\n",
    "# labels - list of 10000 numbers in the range 0-9\n",
    "# batch_label - name of the batch   \n",
    "# filenames - list of 10000 strings (file names)\n",
    "# label_names - list of 10 strings (label names)\n",
    "# num_cases_per_batch - number of images in each batch\n",
    "# num_vis - number of dimensions of each image (3072 = 32x32x3)\n",
    "# the test batch contains exactly 1000 randomly-selected images from each class"
   ]
  },
  {
   "cell_type": "code",
   "execution_count": null,
   "metadata": {},
   "outputs": [],
   "source": [
    "# write function to load CIFAR10 dataset\n",
    "import pickle\n",
    "import numpy as np\n",
    "import matplotlib.pyplot as plt\n",
    "import matplotlib.image as mpimg\n",
    "\n",
    "def load_CIFAR10_batch(filename):\n",
    "    with open(filename, 'rb') as f:\n",
    "        datadict = pickle.load(f, encoding='latin1')\n",
    "        X = datadict['data'].reshape(10000, 3, 32, 32).transpose(0,2,3,1).astype(\"float\")\n",
    "        Y = np.array(datadict['labels'])\n",
    "        return X, Y"
   ]
  }
 ],
 "metadata": {
  "kernelspec": {
   "display_name": "Python 3",
   "language": "python",
   "name": "python3"
  },
  "language_info": {
   "codemirror_mode": {
    "name": "ipython",
    "version": 3
   },
   "file_extension": ".py",
   "mimetype": "text/x-python",
   "name": "python",
   "nbconvert_exporter": "python",
   "pygments_lexer": "ipython3",
   "version": "3.9.6"
  }
 },
 "nbformat": 4,
 "nbformat_minor": 2
}
