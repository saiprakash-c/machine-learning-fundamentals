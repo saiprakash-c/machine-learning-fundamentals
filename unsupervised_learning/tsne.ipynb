{
 "cells": [
  {
   "cell_type": "markdown",
   "metadata": {},
   "source": [
    "## Goal fo the project\n",
    "- To visualize high dimensional data in 2D space using tSNE\n",
    "- To understand the limitations of tSNE"
   ]
  },
  {
   "cell_type": "code",
   "execution_count": 1,
   "metadata": {},
   "outputs": [
    {
     "name": "stderr",
     "output_type": "stream",
     "text": [
      "INFO:root:Checking if the file is already downloaded...\n",
      "INFO:root:File already downloaded.\n",
      "INFO:root:Converting GloVe format to Word2Vec format...\n",
      "/var/folders/z0/rj2w3r8n0cq_wv77rh08zynh0000gn/T/ipykernel_2381/721781650.py:37: DeprecationWarning: Call to deprecated `glove2word2vec` (KeyedVectors.load_word2vec_format(.., binary=False, no_header=True) loads GLoVE text vectors.).\n",
      "  glove2word2vec(glove_input_file, word2vec_output_file)\n",
      "INFO:gensim.models.keyedvectors:loading projection weights from /Users/saip/My Drive/machine-learning-fundamentals/datasets/glove.6B.50d.txt\n",
      "INFO:gensim.utils:KeyedVectors lifecycle event {'msg': 'loaded (400000, 50) matrix of type float32 from /Users/saip/My Drive/machine-learning-fundamentals/datasets/glove.6B.50d.txt', 'binary': False, 'encoding': 'utf8', 'datetime': '2023-11-29T21:15:00.108552', 'gensim': '4.3.2', 'python': '3.9.6 (default, Aug 11 2023, 19:44:49) \\n[Clang 15.0.0 (clang-1500.0.40.1)]', 'platform': 'macOS-14.1-arm64-arm-64bit', 'event': 'load_word2vec_format'}\n",
      "INFO:gensim.scripts.glove2word2vec:converting 400000 vectors from /Users/saip/My Drive/machine-learning-fundamentals/datasets/glove.6B.50d.txt to /Users/saip/My Drive/machine-learning-fundamentals/datasets/glove.6B.50d.txt.word2vec\n",
      "INFO:gensim.models.keyedvectors:storing 400000x50 projection weights into /Users/saip/My Drive/machine-learning-fundamentals/datasets/glove.6B.50d.txt.word2vec\n",
      "INFO:root:Conversion completed.\n",
      "INFO:root:Loading the GloVe model into memory...\n",
      "INFO:gensim.models.keyedvectors:loading projection weights from /Users/saip/My Drive/machine-learning-fundamentals/datasets/glove.6B.50d.txt.word2vec\n",
      "INFO:gensim.utils:KeyedVectors lifecycle event {'msg': 'loaded (400000, 50) matrix of type float32 from /Users/saip/My Drive/machine-learning-fundamentals/datasets/glove.6B.50d.txt.word2vec', 'binary': False, 'encoding': 'utf8', 'datetime': '2023-11-29T21:15:11.005045', 'gensim': '4.3.2', 'python': '3.9.6 (default, Aug 11 2023, 19:44:49) \\n[Clang 15.0.0 (clang-1500.0.40.1)]', 'platform': 'macOS-14.1-arm64-arm-64bit', 'event': 'load_word2vec_format'}\n",
      "INFO:root:Model loaded.\n",
      "INFO:root:Selecting a random sample of 1000 words...\n"
     ]
    },
    {
     "ename": "AttributeError",
     "evalue": "'numpy.ndarray' object has no attribute 'extend'",
     "output_type": "error",
     "traceback": [
      "\u001b[0;31m---------------------------------------------------------------------------\u001b[0m",
      "\u001b[0;31mAttributeError\u001b[0m                            Traceback (most recent call last)",
      "\u001b[1;32m/Users/saip/My Drive/machine-learning-fundamentals/unsupervised_learning/tsne.ipynb Cell 2\u001b[0m line \u001b[0;36m5\n\u001b[1;32m     <a href='vscode-notebook-cell:/Users/saip/My%20Drive/machine-learning-fundamentals/unsupervised_learning/tsne.ipynb#W3sZmlsZQ%3D%3D?line=47'>48</a>\u001b[0m \u001b[39m# Select a random sample of 1000 words\u001b[39;00m\n\u001b[1;32m     <a href='vscode-notebook-cell:/Users/saip/My%20Drive/machine-learning-fundamentals/unsupervised_learning/tsne.ipynb#W3sZmlsZQ%3D%3D?line=48'>49</a>\u001b[0m words \u001b[39m=\u001b[39m np\u001b[39m.\u001b[39mrandom\u001b[39m.\u001b[39mchoice(\u001b[39mlist\u001b[39m(model\u001b[39m.\u001b[39mkey_to_index), size\u001b[39m=\u001b[39m\u001b[39m10000\u001b[39m)\n\u001b[0;32m---> <a href='vscode-notebook-cell:/Users/saip/My%20Drive/machine-learning-fundamentals/unsupervised_learning/tsne.ipynb#W3sZmlsZQ%3D%3D?line=49'>50</a>\u001b[0m words\u001b[39m.\u001b[39;49mextend(words_to_show)\n\u001b[1;32m     <a href='vscode-notebook-cell:/Users/saip/My%20Drive/machine-learning-fundamentals/unsupervised_learning/tsne.ipynb#W3sZmlsZQ%3D%3D?line=50'>51</a>\u001b[0m logging\u001b[39m.\u001b[39minfo(\u001b[39m\"\u001b[39m\u001b[39mWords selected.\u001b[39m\u001b[39m\"\u001b[39m)\n\u001b[1;32m     <a href='vscode-notebook-cell:/Users/saip/My%20Drive/machine-learning-fundamentals/unsupervised_learning/tsne.ipynb#W3sZmlsZQ%3D%3D?line=52'>53</a>\u001b[0m logging\u001b[39m.\u001b[39minfo(\u001b[39m\"\u001b[39m\u001b[39mGetting the vectors for these words...\u001b[39m\u001b[39m\"\u001b[39m)\n",
      "\u001b[0;31mAttributeError\u001b[0m: 'numpy.ndarray' object has no attribute 'extend'"
     ]
    }
   ],
   "source": [
    "import urllib.request\n",
    "import numpy as np\n",
    "from gensim.models import KeyedVectors\n",
    "from gensim.scripts.glove2word2vec import glove2word2vec\n",
    "from sklearn.manifold import TSNE\n",
    "import matplotlib.pyplot as plt\n",
    "import logging\n",
    "\n",
    "# Set up logging\n",
    "logging.basicConfig(level=logging.INFO)\n",
    "\n",
    "# download the GloVe model only if it is not already downloaded\n",
    "\n",
    "# check if the file is already downloaded\n",
    "logging.info(\"Checking if the file is already downloaded...\")\n",
    "folder_path = '/Users/saip/My Drive/machine-learning-fundamentals/datasets'\n",
    "try:\n",
    "    with open(f'{folder_path}/glove.6B.50d.txt', 'r') as f:\n",
    "        logging.info(\"File already downloaded.\")\n",
    "except FileNotFoundError:\n",
    "    logging.info(\"Starting download of GloVe model...\")\n",
    "    # Download the GloVe model\n",
    "    url = 'http://nlp.stanford.edu/data/glove.6B.zip'\n",
    "    filename = '{}/glove.6B.zip'.format(folder_path)\n",
    "    urllib.request.urlretrieve(url, filename)\n",
    "    logging.info(\"Download completed.\")\n",
    "\n",
    "    logging.info(\"Starting to unzip the file...\")\n",
    "    # Unzip the file (may take a few minutes)\n",
    "    !unzip -q glove.6B.zip -d {folder_path}\n",
    "    logging.info(\"Unzipping completed.\")\n",
    "\n",
    "logging.info(\"Converting GloVe format to Word2Vec format...\")\n",
    "# Convert GloVe format to Word2Vec format\n",
    "glove_input_file = f'{folder_path}/glove.6B.50d.txt'\n",
    "word2vec_output_file = f'{folder_path}/glove.6B.50d.txt.word2vec'\n",
    "glove2word2vec(glove_input_file, word2vec_output_file)\n",
    "logging.info(\"Conversion completed.\")\n",
    "\n",
    "logging.info(\"Loading the GloVe model into memory...\")\n",
    "# Load the GloVe model into memory\n",
    "model = KeyedVectors.load_word2vec_format(f'{folder_path}/glove.6B.50d.txt.word2vec', binary=False)\n",
    "logging.info(\"Model loaded.\")\n",
    "\n",
    "words_to_show = ['forest','lion','table','home','dog']\n",
    "# find indices for these words\n",
    "indices_to_show = [model.key_to_index[word] for word in words_to_show]\n",
    "\n",
    "logging.info(\"Selecting a random sample of 1000 words...\")\n",
    "# Select a random sample of 1000 words\n",
    "words = np.random.choice(list(model.key_to_index), size=10000)\n",
    "# add indices_to_show to words, words is a numpy array\n",
    "\n",
    "logging.info(\"Words selected.\")\n",
    "\n",
    "logging.info(\"Getting the vectors for these words...\")\n",
    "# Get the vectors for these words\n",
    "vectors = np.array([model[word] for word in words])\n",
    "logging.info(\"Vectors obtained.\")\n",
    "\n",
    "logging.info(\"Applying t-SNE...\")\n",
    "# Apply t-SNE\n",
    "tsne = TSNE(n_components=2)\n",
    "vectors_tsne = tsne.fit_transform(vectors)\n",
    "logging.info(\"t-SNE applied.\")\n",
    "\n",
    "logging.info(\"Plotting the result...\")\n",
    "# Plot the result\n",
    "plt.figure(figsize=(10, 10))\n",
    "plt.scatter(vectors_tsne[:, 0], vectors_tsne[:, 1])\n",
    "\n",
    "# Pick 10 words from the list of words and show them on the plot\n",
    "for word in words_to_show:\n",
    "    plt.annotate(word, (vectors_tsne[words == word][0, 0], vectors_tsne[words == word][0, 1]))\n",
    "plt.show()\n",
    "\n",
    "\n",
    "logging.info(\"Plotting completed.\")"
   ]
  }
 ],
 "metadata": {
  "kernelspec": {
   "display_name": "Python 3",
   "language": "python",
   "name": "python3"
  },
  "language_info": {
   "codemirror_mode": {
    "name": "ipython",
    "version": 3
   },
   "file_extension": ".py",
   "mimetype": "text/x-python",
   "name": "python",
   "nbconvert_exporter": "python",
   "pygments_lexer": "ipython3",
   "version": "3.9.6"
  }
 },
 "nbformat": 4,
 "nbformat_minor": 2
}
